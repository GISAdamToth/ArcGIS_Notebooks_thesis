{
 "cells": [
  {
   "cell_type": "markdown",
   "metadata": {},
   "source": [
    "Import libraries"
   ]
  },
  {
   "cell_type": "code",
   "execution_count": 1,
   "metadata": {},
   "outputs": [],
   "source": [
    "import rasterio\n",
    "from rasterio.mask import mask\n",
    "from shapely.geometry import shape\n",
    "import fiona\n",
    "import os\n",
    "import numpy as np\n",
    "import re\n",
    "import matplotlib as mpl\n",
    "import matplotlib.pyplot as plt"
   ]
  },
  {
   "cell_type": "markdown",
   "metadata": {},
   "source": [
    "Save the working directory with data and where you will write the outputs."
   ]
  },
  {
   "cell_type": "code",
   "execution_count": 2,
   "metadata": {},
   "outputs": [],
   "source": [
    "wd = \"D:/4.LS/MEDPZ/semestralka/final/3+\"\n",
    "rootdir = wd + \"/snimek\""
   ]
  },
  {
   "cell_type": "markdown",
   "metadata": {},
   "source": [
    "Walk through the folder with downloaded satellite imagery and save the B03 and B11 20 m bands into a list named ```source```."
   ]
  },
  {
   "cell_type": "code",
   "execution_count": 5,
   "metadata": {},
   "outputs": [
    {
     "data": {
      "text/plain": [
       "['D:/4.LS/MEDPZ/semestralka/final/3+/snimek\\\\S2A_MSIL2A_20180701T102021_N0208_R065_T32TMS_20180701T141038.SAFE\\\\GRANULE\\\\L2A_T32TMS_A015792_20180701T102404\\\\IMG_DATA\\\\R20m\\\\T32TMS_20180701T102021_B03_20m.jp2',\n",
       " 'D:/4.LS/MEDPZ/semestralka/final/3+/snimek\\\\S2A_MSIL2A_20180701T102021_N0208_R065_T32TMS_20180701T141038.SAFE\\\\GRANULE\\\\L2A_T32TMS_A015792_20180701T102404\\\\IMG_DATA\\\\R20m\\\\T32TMS_20180701T102021_B11_20m.jp2',\n",
       " 'D:/4.LS/MEDPZ/semestralka/final/3+/snimek\\\\S2A_MSIL2A_20190716T102031_N0213_R065_T32TMS_20190716T125750.SAFE\\\\GRANULE\\\\L2A_T32TMS_A021226_20190716T102028\\\\IMG_DATA\\\\R20m\\\\T32TMS_20190716T102031_B03_20m.jp2',\n",
       " 'D:/4.LS/MEDPZ/semestralka/final/3+/snimek\\\\S2A_MSIL2A_20190716T102031_N0213_R065_T32TMS_20190716T125750.SAFE\\\\GRANULE\\\\L2A_T32TMS_A021226_20190716T102028\\\\IMG_DATA\\\\R20m\\\\T32TMS_20190716T102031_B11_20m.jp2',\n",
       " 'D:/4.LS/MEDPZ/semestralka/final/3+/snimek\\\\S2A_MSIL2A_20200713T103031_N0214_R108_T32TMS_20200713T132504.SAFE\\\\GRANULE\\\\L2A_T32TMS_A026417_20200713T103703\\\\IMG_DATA\\\\R20m\\\\T32TMS_20200713T103031_B03_20m.jp2',\n",
       " 'D:/4.LS/MEDPZ/semestralka/final/3+/snimek\\\\S2A_MSIL2A_20200713T103031_N0214_R108_T32TMS_20200713T132504.SAFE\\\\GRANULE\\\\L2A_T32TMS_A026417_20200713T103703\\\\IMG_DATA\\\\R20m\\\\T32TMS_20200713T103031_B11_20m.jp2',\n",
       " 'D:/4.LS/MEDPZ/semestralka/final/3+/snimek\\\\S2A_MSIL2A_20210718T103031_N0301_R108_T32TMS_20210718T133950.SAFE\\\\GRANULE\\\\L2A_T32TMS_A031708_20210718T103025\\\\IMG_DATA\\\\R20m\\\\T32TMS_20210718T103031_B03_20m.jp2',\n",
       " 'D:/4.LS/MEDPZ/semestralka/final/3+/snimek\\\\S2A_MSIL2A_20210718T103031_N0301_R108_T32TMS_20210718T133950.SAFE\\\\GRANULE\\\\L2A_T32TMS_A031708_20210718T103025\\\\IMG_DATA\\\\R20m\\\\T32TMS_20210718T103031_B11_20m.jp2',\n",
       " 'D:/4.LS/MEDPZ/semestralka/final/3+/snimek\\\\S2A_MSIL2A_20220713T103041_N0400_R108_T32TMS_20220713T164557.SAFE\\\\GRANULE\\\\L2A_T32TMS_A036856_20220713T103035\\\\IMG_DATA\\\\R20m\\\\T32TMS_20220713T103041_B03_20m.jp2',\n",
       " 'D:/4.LS/MEDPZ/semestralka/final/3+/snimek\\\\S2A_MSIL2A_20220713T103041_N0400_R108_T32TMS_20220713T164557.SAFE\\\\GRANULE\\\\L2A_T32TMS_A036856_20220713T103035\\\\IMG_DATA\\\\R20m\\\\T32TMS_20220713T103041_B11_20m.jp2']"
      ]
     },
     "execution_count": 5,
     "metadata": {},
     "output_type": "execute_result"
    }
   ],
   "source": [
    "source = []\n",
    "for subdir, dirs, files in os.walk(rootdir):\n",
    "    for file in files:\n",
    "        if(os.path.join(subdir, file).endswith(\"B03_20m.jp2\") or os.path.join(subdir, file).endswith(\"B11_20m.jp2\")):\n",
    "            source.append(os.path.join(subdir, file))\n",
    "\n",
    "source"
   ]
  },
  {
   "cell_type": "markdown",
   "metadata": {},
   "source": []
  },
  {
   "cell_type": "code",
   "execution_count": 7,
   "metadata": {},
   "outputs": [
    {
     "data": {
      "text/plain": [
       "['20180701', '20190716', '20200713', '20210718', '20220713']"
      ]
     },
     "execution_count": 7,
     "metadata": {},
     "output_type": "execute_result"
    }
   ],
   "source": [
    "unique_dates = []\n",
    "sorted_source = []\n",
    "\n",
    "# loop through the bands in list source\n",
    "for item in source:\n",
    "    # find a date in the band name using regular expression\n",
    "    match = re.search(r'S2A_[A-Za-z\\d]+_(\\d+)T', item)\n",
    "    # if there is a date in the band name\n",
    "    if match:\n",
    "        date = match.group(1)\n",
    "        # pokud je datum unikátní, přidej ho do unique_dates\n",
    "        if date not in unique_dates:\n",
    "            unique_dates.append(date)\n",
    "            # přidej item do sorted_source\n",
    "            sorted_source.append(item)\n",
    "\n",
    "unique_dates"
   ]
  },
  {
   "cell_type": "code",
   "execution_count": 8,
   "metadata": {},
   "outputs": [
    {
     "data": {
      "text/plain": [
       "['D:/4.LS/MEDPZ/semestralka/final/3+/snimek\\\\S2A_MSIL2A_20180701T102021_N0208_R065_T32TMS_20180701T141038.SAFE\\\\GRANULE\\\\L2A_T32TMS_A015792_20180701T102404\\\\IMG_DATA\\\\R20m\\\\T32TMS_20180701T102021_B03_20m.jp2',\n",
       " 'D:/4.LS/MEDPZ/semestralka/final/3+/snimek\\\\S2A_MSIL2A_20190716T102031_N0213_R065_T32TMS_20190716T125750.SAFE\\\\GRANULE\\\\L2A_T32TMS_A021226_20190716T102028\\\\IMG_DATA\\\\R20m\\\\T32TMS_20190716T102031_B03_20m.jp2',\n",
       " 'D:/4.LS/MEDPZ/semestralka/final/3+/snimek\\\\S2A_MSIL2A_20200713T103031_N0214_R108_T32TMS_20200713T132504.SAFE\\\\GRANULE\\\\L2A_T32TMS_A026417_20200713T103703\\\\IMG_DATA\\\\R20m\\\\T32TMS_20200713T103031_B03_20m.jp2',\n",
       " 'D:/4.LS/MEDPZ/semestralka/final/3+/snimek\\\\S2A_MSIL2A_20210718T103031_N0301_R108_T32TMS_20210718T133950.SAFE\\\\GRANULE\\\\L2A_T32TMS_A031708_20210718T103025\\\\IMG_DATA\\\\R20m\\\\T32TMS_20210718T103031_B03_20m.jp2',\n",
       " 'D:/4.LS/MEDPZ/semestralka/final/3+/snimek\\\\S2A_MSIL2A_20220713T103041_N0400_R108_T32TMS_20220713T164557.SAFE\\\\GRANULE\\\\L2A_T32TMS_A036856_20220713T103035\\\\IMG_DATA\\\\R20m\\\\T32TMS_20220713T103041_B03_20m.jp2']"
      ]
     },
     "execution_count": 8,
     "metadata": {},
     "output_type": "execute_result"
    }
   ],
   "source": [
    "sorted_source"
   ]
  },
  {
   "cell_type": "code",
   "execution_count": 16,
   "metadata": {},
   "outputs": [
    {
     "data": {
      "text/plain": [
       "0.7"
      ]
     },
     "execution_count": 16,
     "metadata": {},
     "output_type": "execute_result"
    }
   ],
   "source": [
    "percent = 22.4/32\n",
    "percent"
   ]
  },
  {
   "cell_type": "code",
   "execution_count": null,
   "metadata": {},
   "outputs": [],
   "source": []
  }
 ],
 "metadata": {
  "kernelspec": {
   "display_name": "Python 3",
   "language": "python",
   "name": "python3"
  },
  "language_info": {
   "codemirror_mode": {
    "name": "ipython",
    "version": 3
   },
   "file_extension": ".py",
   "mimetype": "text/x-python",
   "name": "python",
   "nbconvert_exporter": "python",
   "pygments_lexer": "ipython3",
   "version": "3.9.18"
  }
 },
 "nbformat": 4,
 "nbformat_minor": 2
}
