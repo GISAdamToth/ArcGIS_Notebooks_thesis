{
 "cells": [
  {
   "cell_type": "markdown",
   "metadata": {},
   "source": [
    "Import libraries"
   ]
  },
  {
   "cell_type": "code",
   "execution_count": 1,
   "metadata": {},
   "outputs": [],
   "source": [
    "import rasterio\n",
    "from rasterio.mask import mask\n",
    "from shapely.geometry import shape\n",
    "import fiona\n",
    "import os\n",
    "import numpy as np\n",
    "import re\n",
    "import matplotlib as mpl\n",
    "import matplotlib.pyplot as plt"
   ]
  },
  {
   "cell_type": "code",
   "execution_count": 2,
   "metadata": {},
   "outputs": [
    {
     "data": {
      "text/plain": [
       "{'divide': 'warn', 'over': 'warn', 'under': 'ignore', 'invalid': 'warn'}"
      ]
     },
     "execution_count": 2,
     "metadata": {},
     "output_type": "execute_result"
    }
   ],
   "source": [
    "np.seterr(divide='ignore', invalid='ignore')"
   ]
  },
  {
   "cell_type": "markdown",
   "metadata": {},
   "source": [
    "Save the working directory with data and where you will write the outputs."
   ]
  },
  {
   "cell_type": "code",
   "execution_count": 3,
   "metadata": {},
   "outputs": [],
   "source": [
    "wd = \"D:/4.LS/MEDPZ/semestralka/final/3+\"\n",
    "rootdir = wd + \"/snimek\""
   ]
  },
  {
   "cell_type": "markdown",
   "metadata": {},
   "source": [
    "Walk through the folder with downloaded satellite imagery and save the B03 and B11 20 m bands into a list named ```source```."
   ]
  },
  {
   "cell_type": "code",
   "execution_count": 4,
   "metadata": {},
   "outputs": [
    {
     "data": {
      "text/plain": [
       "['D:/4.LS/MEDPZ/semestralka/final/3+/snimek\\\\S2A_MSIL2A_20180701T102021_N0208_R065_T32TMS_20180701T141038.SAFE\\\\GRANULE\\\\L2A_T32TMS_A015792_20180701T102404\\\\IMG_DATA\\\\R20m\\\\T32TMS_20180701T102021_B03_20m.jp2',\n",
       " 'D:/4.LS/MEDPZ/semestralka/final/3+/snimek\\\\S2A_MSIL2A_20190716T102031_N0213_R065_T32TMS_20190716T125750.SAFE\\\\GRANULE\\\\L2A_T32TMS_A021226_20190716T102028\\\\IMG_DATA\\\\R20m\\\\T32TMS_20190716T102031_B03_20m.jp2',\n",
       " 'D:/4.LS/MEDPZ/semestralka/final/3+/snimek\\\\S2A_MSIL2A_20200713T103031_N0214_R108_T32TMS_20200713T132504.SAFE\\\\GRANULE\\\\L2A_T32TMS_A026417_20200713T103703\\\\IMG_DATA\\\\R20m\\\\T32TMS_20200713T103031_B03_20m.jp2',\n",
       " 'D:/4.LS/MEDPZ/semestralka/final/3+/snimek\\\\S2A_MSIL2A_20210718T103031_N0301_R108_T32TMS_20210718T133950.SAFE\\\\GRANULE\\\\L2A_T32TMS_A031708_20210718T103025\\\\IMG_DATA\\\\R20m\\\\T32TMS_20210718T103031_B03_20m.jp2',\n",
       " 'D:/4.LS/MEDPZ/semestralka/final/3+/snimek\\\\S2A_MSIL2A_20220713T103041_N0400_R108_T32TMS_20220713T164557.SAFE\\\\GRANULE\\\\L2A_T32TMS_A036856_20220713T103035\\\\IMG_DATA\\\\R20m\\\\T32TMS_20220713T103041_B03_20m.jp2']"
      ]
     },
     "execution_count": 4,
     "metadata": {},
     "output_type": "execute_result"
    }
   ],
   "source": [
    "bands_B03 = []\n",
    "bands_B11 = []\n",
    "\n",
    "for subdir, dirs, files in os.walk(rootdir):\n",
    "    for file in files:\n",
    "        if os.path.join(subdir, file).endswith(\"B03_20m.jp2\"):\n",
    "            bands_B03.append(os.path.join(subdir, file))\n",
    "        if os.path.join(subdir, file).endswith(\"B11_20m.jp2\"):\n",
    "            bands_B11.append(os.path.join(subdir, file))\n",
    "\n",
    "bands_B03"
   ]
  },
  {
   "cell_type": "code",
   "execution_count": 5,
   "metadata": {},
   "outputs": [
    {
     "data": {
      "text/plain": [
       "['D:/4.LS/MEDPZ/semestralka/final/3+/snimek\\\\S2A_MSIL2A_20180701T102021_N0208_R065_T32TMS_20180701T141038.SAFE\\\\GRANULE\\\\L2A_T32TMS_A015792_20180701T102404\\\\IMG_DATA\\\\R20m\\\\T32TMS_20180701T102021_B11_20m.jp2',\n",
       " 'D:/4.LS/MEDPZ/semestralka/final/3+/snimek\\\\S2A_MSIL2A_20190716T102031_N0213_R065_T32TMS_20190716T125750.SAFE\\\\GRANULE\\\\L2A_T32TMS_A021226_20190716T102028\\\\IMG_DATA\\\\R20m\\\\T32TMS_20190716T102031_B11_20m.jp2',\n",
       " 'D:/4.LS/MEDPZ/semestralka/final/3+/snimek\\\\S2A_MSIL2A_20200713T103031_N0214_R108_T32TMS_20200713T132504.SAFE\\\\GRANULE\\\\L2A_T32TMS_A026417_20200713T103703\\\\IMG_DATA\\\\R20m\\\\T32TMS_20200713T103031_B11_20m.jp2',\n",
       " 'D:/4.LS/MEDPZ/semestralka/final/3+/snimek\\\\S2A_MSIL2A_20210718T103031_N0301_R108_T32TMS_20210718T133950.SAFE\\\\GRANULE\\\\L2A_T32TMS_A031708_20210718T103025\\\\IMG_DATA\\\\R20m\\\\T32TMS_20210718T103031_B11_20m.jp2',\n",
       " 'D:/4.LS/MEDPZ/semestralka/final/3+/snimek\\\\S2A_MSIL2A_20220713T103041_N0400_R108_T32TMS_20220713T164557.SAFE\\\\GRANULE\\\\L2A_T32TMS_A036856_20220713T103035\\\\IMG_DATA\\\\R20m\\\\T32TMS_20220713T103041_B11_20m.jp2']"
      ]
     },
     "execution_count": 5,
     "metadata": {},
     "output_type": "execute_result"
    }
   ],
   "source": [
    "bands_B11"
   ]
  },
  {
   "cell_type": "markdown",
   "metadata": {},
   "source": [
    "Fill the list ```unique_dates``` with dates of the downloaded satellite images."
   ]
  },
  {
   "cell_type": "code",
   "execution_count": 7,
   "metadata": {},
   "outputs": [
    {
     "data": {
      "text/plain": [
       "['20180701', '20190716', '20200713', '20210718', '20220713']"
      ]
     },
     "execution_count": 7,
     "metadata": {},
     "output_type": "execute_result"
    }
   ],
   "source": [
    "unique_dates = []\n",
    "# loop through the bands in list source\n",
    "for item in bands_B03:\n",
    "    # find a date in the band name using regular expression\n",
    "    match = re.search(r'S2A_[A-Za-z\\d]+_(\\d+)T', item)\n",
    "    # if there is a date in the band name\n",
    "    if match:\n",
    "        date = match.group(1)\n",
    "        # add date to the list unique_dates\n",
    "        unique_dates.append(date)\n",
    "\n",
    "unique_dates"
   ]
  },
  {
   "cell_type": "markdown",
   "metadata": {},
   "source": [
    "Read geojson file with the area of interest polygon using fiona.open() function. Save its geometry into the ```geometry``` variable. Then create a shape from it and save it in the variable ```input_polygon```."
   ]
  },
  {
   "cell_type": "code",
   "execution_count": 10,
   "metadata": {},
   "outputs": [
    {
     "data": {
      "image/svg+xml": [
       "<svg xmlns=\"http://www.w3.org/2000/svg\" xmlns:xlink=\"http://www.w3.org/1999/xlink\" width=\"300\" height=\"300\" viewBox=\"425218.5642978804 5138724.481278742 5088.618941453635 11876.740856373683\" preserveAspectRatio=\"xMinYMin meet\"><g transform=\"matrix(1,0,0,-1,0,10289325.703413857)\"><g><path fill-rule=\"evenodd\" fill=\"#66cc99\" stroke=\"#555555\" stroke-width=\"79.17827237582455\" opacity=\"0.6\" d=\"M 425824.21312237554,5149140.033938481 L 427163.0128295195,5150161.342844139 L 427224.82519795006,5149978.715391958 L 427264.1603414968,5149807.326552219 L 427415.8816094628,5149602.2218751535 L 427486.12293722475,5149430.833035414 L 428028.3859875475,5148832.376922881 L 428187.1313882898,5148533.148866615 L 428587.5069565333,5148111.700900043 L 429072.1721180912,5147813.877670333 L 429058.1238525388,5147541.341318616 L 429236.5368250543,5147237.898782684 L 429440.23667556414,5146990.649308962 L 429482.3814722214,5146798.188070893 L 429473.9525128899,5146675.968160587 L 429589.14829041966,5146248.900887795 L 429822.3494985895,5145581.608274057 L 429867.30394835724,5145370.884290771 L 429816.73019236856,5145112.396204606 L 429850.44602969434,5144789.286096901 L 429867.30394835724,5144516.749745185 L 429830.77845792094,5144348.170558555 L 429833.5881110314,5144182.401025036 L 429864.4942952467,5143502.4649723 L 429760.5371301589,5143378.840235439 L 429735.2502521646,5143241.167233026 L 429575.10002486734,5142909.628165989 L 429507.66835021577,5142667.997998487 L 429058.1238525389,5142151.021826159 L 428647.91449840873,5141861.62755578 L 428487.76427111117,5141723.954553367 L 428358.5202280291,5141504.801610749 L 428125.3190198592,5141218.21699348 L 428026.98116099235,5140951.2999479845 L 428038.2197734343,5140779.911108245 L 428001.69428299804,5140630.999493389 L 427785.3509934912,5140232.028751701 L 427729.15793128154,5140125.261933503 L 427642.05868485663,5140074.688177514 L 427512.8146417745,5140010.066155973 L 427254.32655561034,5139788.103560245 L 426917.16818235256,5139703.813966931 L 426594.05807464727,5139560.521658296 L 426405.81131624506,5139512.757555418 L 426026.50814633013,5139375.084553004 L 425902.88340946904,5139344.178368789 L 425725.87526350876,5139164.360569718 L 425672.4918544096,5139203.695713265 L 425658.4435888572,5139257.0791223645 L 425900.0737563585,5139774.0552946925 L 426211.9452516219,5139962.302053095 L 426270.947966942,5139967.9213593155 L 426372.0954789193,5140102.784708619 L 426627.773911973,5140192.693608155 L 426681.1573210721,5140279.792854579 L 426728.9214239503,5140291.031467021 L 426860.9751201429,5140428.704469435 L 427018.3156943298,5140448.372041208 L 427082.93771587085,5140518.61336897 L 427080.12806276034,5140647.857412052 L 427178.4659216272,5140808.007639349 L 427161.6080029643,5141013.112316415 L 427147.5597374119,5141181.691503043 L 427220.6107182844,5141367.128608335 L 427167.22730918525,5141740.812472029 L 427223.42037139484,5141889.7240868835 L 427335.80649581406,5142072.351539065 L 427411.66712979705,5142218.45350081 L 427467.8601920066,5142325.220319008 L 427495.95672311145,5142555.611874068 L 427549.3401322106,5142721.381407586 L 427625.2007661936,5142788.813082238 L 427684.2034815137,5142923.67643154 L 427706.6807063976,5142965.821228198 L 427701.0614001766,5143044.491515291 L 427684.2034815137,5143125.971455495 L 427903.3564241312,5143227.118967473 L 428291.08855337754,5143401.317460322 L 428403.47467779677,5143533.371156515 L 428456.8580868959,5143735.666180469 L 428425.95190268056,5143895.816407767 L 428456.8580868959,5143988.534960412 L 428425.95190268056,5144120.588656605 L 428487.7642711111,5144342.551252333 L 428468.09669933777,5144620.706910271 L 428372.56849358144,5145008.439039517 L 428226.4665318365,5145466.412496527 L 428175.89277584787,5145615.324111382 L 428147.79624474305,5145873.8121975465 L 428038.2197734343,5146151.967855483 L 428007.313589219,5146362.691838769 L 427937.072261457,5146477.887616299 L 427869.6405868055,5146649.2764560385 L 427701.0614001766,5146938.670726418 L 427560.5787446526,5147056.676157058 L 427375.1416393609,5147362.9283461 L 427094.17632831284,5147860.236946656 L 426934.02610101545,5148124.344339041 L 426740.1600363923,5148365.974506543 L 426506.95882822236,5148694.703920468 L 426240.0417827267,5148927.905128638 L 426034.9371056616,5149059.958824831 L 425824.21312237554,5149140.033938481 z\" /></g></g></svg>"
      ],
      "text/plain": [
       "<MULTIPOLYGON (((425824.213 5149140.034, 427163.013 5150161.343, 427224.825 ...>"
      ]
     },
     "execution_count": 10,
     "metadata": {},
     "output_type": "execute_result"
    }
   ],
   "source": [
    "with fiona.open(wd + \"/aoi/aoiled.geojson\", \"r\") as shapefile:\n",
    "    geometry = shapefile[0][\"geometry\"]\n",
    "    input_polygon = shape(geometry)\n",
    "\n",
    "input_polygon"
   ]
  },
  {
   "cell_type": "markdown",
   "metadata": {},
   "source": [
    "Clip all the ```source``` bands by the ```input_polygon``` which represents the area of interest. Use the [**mask**](https://rasterio.readthedocs.io/en/stable/api/rasterio.mask.html) function. This function returns two elements: \n",
    "- *masked*: actual clipped raster\n",
    "- *out_transform*: information for mapping pixel coordinates in masked to another coordinate system\n",
    "Save both into their respective lists, *masked* in ```oi``` variable to the ```out_image``` list and *out_transform* into the ```out_transform```  list.\n",
    "\n",
    "After that save also the metadata of each image band into the ```out_meta``` list using [**meta.copy()**](https://automating-gis-processes.github.io/CSC/notebooks/L5/clipping-raster.html) function."
   ]
  },
  {
   "cell_type": "code",
   "execution_count": 11,
   "metadata": {},
   "outputs": [],
   "source": [
    "def clip_raster(bands):    \n",
    "    out_image = []\n",
    "    out_transform = []\n",
    "    out_meta = []\n",
    "    \n",
    "    # loop through all the image bands\n",
    "    for i in range(len(bands)):\n",
    "        # open the image band as a raster\n",
    "        with rasterio.open(bands[i]) as src:\n",
    "            # clipping the current image band by input_polygon\n",
    "            oi, ot = mask(src, [input_polygon], crop=True)\n",
    "            out_image.append(oi)\n",
    "            out_transform.append(ot)\n",
    "            # retrieve metadata of the current image band\n",
    "            om = src.meta.copy()\n",
    "            out_meta.append(om)\n",
    "\n",
    "        # metadata update of clipped image band\n",
    "        out_meta[i].update({\"driver\": \"GTiff\",\n",
    "                        \"height\": out_image[i].shape[1],\n",
    "                        \"width\": out_image[i].shape[2],\n",
    "                        \"transform\": out_transform[i],\n",
    "                        \"dtype\": \"float32\"\n",
    "                        })\n",
    "        out_image[i] = out_image[i].astype('float32')\n",
    "\n",
    "    return(out_image, out_meta)"
   ]
  },
  {
   "attachments": {
    "image.png": {
     "image/png": "[encoded data removed]"
    }
   },
   "cell_type": "markdown",
   "metadata": {},
   "source": [
    "[NDSI](https://custom-scripts.sentinel-hub.com/custom-scripts/sentinel-2/ndsi/) (Normalized Difference Snow Index) for Sentinel-2 is calculated like this:\n",
    "\n",
    "![image.png](attachment:image.png)"
   ]
  },
  {
   "cell_type": "code",
   "execution_count": 12,
   "metadata": {},
   "outputs": [],
   "source": [
    "clipped_B03_image, clipped_B03_meta = clip_raster(bands_B03)\n",
    "clipped_B11_image, clipped_B11_meta = clip_raster(bands_B11)"
   ]
  },
  {
   "cell_type": "code",
   "execution_count": 13,
   "metadata": {},
   "outputs": [
    {
     "name": "stdout",
     "output_type": "stream",
     "text": [
      "[{'driver': 'GTiff', 'dtype': 'float32', 'nodata': None, 'width': 212, 'height': 551, 'count': 1, 'crs': CRS.from_epsg(32632), 'transform': Affine(20.0, 0.0, 425640.0,\n",
      "       0.0, -20.0, 5150180.0)}, {'driver': 'GTiff', 'dtype': 'float32', 'nodata': None, 'width': 212, 'height': 551, 'count': 1, 'crs': CRS.from_epsg(32632), 'transform': Affine(20.0, 0.0, 425640.0,\n",
      "       0.0, -20.0, 5150180.0)}, {'driver': 'GTiff', 'dtype': 'float32', 'nodata': None, 'width': 212, 'height': 551, 'count': 1, 'crs': CRS.from_epsg(32632), 'transform': Affine(20.0, 0.0, 425640.0,\n",
      "       0.0, -20.0, 5150180.0)}, {'driver': 'GTiff', 'dtype': 'float32', 'nodata': None, 'width': 212, 'height': 551, 'count': 1, 'crs': CRS.from_epsg(32632), 'transform': Affine(20.0, 0.0, 425640.0,\n",
      "       0.0, -20.0, 5150180.0)}, {'driver': 'GTiff', 'dtype': 'float32', 'nodata': None, 'width': 212, 'height': 551, 'count': 1, 'crs': CRS.from_epsg(32632), 'transform': Affine(20.0, 0.0, 425640.0,\n",
      "       0.0, -20.0, 5150180.0)}]\n"
     ]
    }
   ],
   "source": [
    "print(clipped_B03_meta)"
   ]
  },
  {
   "cell_type": "code",
   "execution_count": 14,
   "metadata": {},
   "outputs": [
    {
     "name": "stdout",
     "output_type": "stream",
     "text": [
      "[{'driver': 'GTiff', 'dtype': 'float32', 'nodata': None, 'width': 212, 'height': 551, 'count': 1, 'crs': CRS.from_epsg(32632), 'transform': Affine(20.0, 0.0, 425640.0,\n",
      "       0.0, -20.0, 5150180.0)}, {'driver': 'GTiff', 'dtype': 'float32', 'nodata': None, 'width': 212, 'height': 551, 'count': 1, 'crs': CRS.from_epsg(32632), 'transform': Affine(20.0, 0.0, 425640.0,\n",
      "       0.0, -20.0, 5150180.0)}, {'driver': 'GTiff', 'dtype': 'float32', 'nodata': None, 'width': 212, 'height': 551, 'count': 1, 'crs': CRS.from_epsg(32632), 'transform': Affine(20.0, 0.0, 425640.0,\n",
      "       0.0, -20.0, 5150180.0)}, {'driver': 'GTiff', 'dtype': 'float32', 'nodata': None, 'width': 212, 'height': 551, 'count': 1, 'crs': CRS.from_epsg(32632), 'transform': Affine(20.0, 0.0, 425640.0,\n",
      "       0.0, -20.0, 5150180.0)}, {'driver': 'GTiff', 'dtype': 'float32', 'nodata': None, 'width': 212, 'height': 551, 'count': 1, 'crs': CRS.from_epsg(32632), 'transform': Affine(20.0, 0.0, 425640.0,\n",
      "       0.0, -20.0, 5150180.0)}]\n"
     ]
    }
   ],
   "source": [
    "print(clipped_B11_meta)"
   ]
  },
  {
   "cell_type": "code",
   "execution_count": 15,
   "metadata": {},
   "outputs": [
    {
     "name": "stdout",
     "output_type": "stream",
     "text": [
      "glacier area on 01.07.2018: 12.5324 km²\n",
      "glacier area on 16.07.2019: 11.8976 km²\n",
      "glacier area on 13.07.2020: 9.1032 km²\n",
      "glacier area on 18.07.2021: 11.722 km²\n",
      "glacier area on 13.07.2022: 8.21 km²\n"
     ]
    }
   ],
   "source": [
    "glacier_area = []\n",
    "\n",
    "# let i take values from 0 to half of the source list length \n",
    "for i in range(len(clipped_B11_image)):\n",
    "    # list out_image contains clipped image bands B3 and B11 for all given years \n",
    "    # the structure of this list: [year1_B3, year1_B11, year2_B3, year2_B11, ... yearN_B3, yearN_B11]\n",
    "    # that's why i iterates only \"halfway through\" the list\n",
    "    ndsi = (clipped_B03_image[i] - clipped_B11_image[i]) / (clipped_B03_image[i] + clipped_B11_image[i])\n",
    "\n",
    "    # reclassification: pixels with NDSI greater than 0.42 are assigned value 1 = glacier pixels, the rest is assigned value 0 = no glacier pixels\n",
    "    ndsi[(ndsi > 0.42)] = 1.0\n",
    "    ndsi[(ndsi <= 0.42)] = 0.0\n",
    "\n",
    "    # glacier area calculation: count the number of pixels classified as glacier\n",
    "    # this number is multiplied by the pixel size, in this case 400 m2, because the image bands have 20 m spatial resolution (20x20=400)\n",
    "    # then it's divided by 1 million so the final glacier size is in km2\n",
    "    glacier_pixels_count = np.sum(ndsi == 1.0)\n",
    "    glacier_area.append((glacier_pixels_count * 400) / 1000000)\n",
    "    date = unique_dates[i]\n",
    "    print(f\"glacier area on {date[6:] + '.' + date[4:6] + '.' + date[:4]}: {glacier_area[i]} km²\")\n",
    "\n",
    "    # save calculated NDSI as a raster file named ndsi_date.tif\n",
    "    with rasterio.open(wd + f'/ndsi_{unique_dates[i]}.tif', 'w', **clipped_B03_meta[i]) as dst:\n",
    "        dst.write(ndsi)"
   ]
  },
  {
   "cell_type": "code",
   "execution_count": 34,
   "metadata": {},
   "outputs": [
    {
     "data": {
      "image/png": "[encoded data removed]",
      "text/plain": [
       "<Figure size 432x288 with 1 Axes>"
      ]
     },
     "metadata": {
      "needs_background": "light"
     },
     "output_type": "display_data"
    }
   ],
   "source": [
    "src = rasterio.open(wd + '/ndsi_20180701.tif')\n",
    "plt.imshow(src.read(1), cmap='winter')\n",
    "plt.show()"
   ]
  },
  {
   "cell_type": "code",
   "execution_count": 16,
   "metadata": {},
   "outputs": [
    {
     "name": "stdout",
     "output_type": "stream",
     "text": [
      "the glacier has shrunk by 4.3224 km²\n"
     ]
    }
   ],
   "source": [
    "# calculate the difference in glacier area between the first year and last year\n",
    "difference = glacier_area[0]-glacier_area[len(glacier_area)-1]\n",
    "if difference > 0:\n",
    "    print(f\"the glacier has shrunk by {difference} km²\")\n",
    "elif difference < 0:\n",
    "    print(f\"the glacier has increased by {abs(difference)} km²\")\n",
    "else:\n",
    "    print(\"the glacier hasn't change\")"
   ]
  },
  {
   "cell_type": "code",
   "execution_count": 17,
   "metadata": {},
   "outputs": [],
   "source": [
    "# fill the list years with years you calculated the glacier area for and the list values with the glacier area in each year\n",
    "years = []\n",
    "values = []\n",
    "for i in range(len(unique_dates)):\n",
    "    years.append(unique_dates[i][:4])\n",
    "    values.append(glacier_area[i])"
   ]
  },
  {
   "cell_type": "code",
   "execution_count": 18,
   "metadata": {},
   "outputs": [
    {
     "data": {
      "image/png": "[encoded data removed]",
      "text/plain": [
       "<Figure size 432x288 with 1 Axes>"
      ]
     },
     "metadata": {
      "needs_background": "light"
     },
     "output_type": "display_data"
    }
   ],
   "source": [
    "# create a line plot that will show the change in glacier area over the years\n",
    "plt.plot(years, values, '-o', color='blue', linewidth=2, markersize=8)\n",
    "\n",
    "# set labels for x and y axes\n",
    "plt.xlabel('years', fontsize=12)\n",
    "plt.ylabel('glacier_area [km²]', fontsize=12)\n",
    "\n",
    "# set title\n",
    "plt.title('Glacier area throughout the years', fontsize=14)\n",
    "\n",
    "# set grid\n",
    "plt.grid(alpha=0.4)\n",
    "\n",
    "# display the plot\n",
    "plt.show()"
   ]
  },
  {
   "cell_type": "code",
   "execution_count": null,
   "metadata": {},
   "outputs": [],
   "source": []
  }
 ],
 "metadata": {
  "kernelspec": {
   "display_name": "Python 3",
   "language": "python",
   "name": "python3"
  },
  "language_info": {
   "codemirror_mode": {
    "name": "ipython",
    "version": 3
   },
   "file_extension": ".py",
   "mimetype": "text/x-python",
   "name": "python",
   "nbconvert_exporter": "python",
   "pygments_lexer": "ipython3",
   "version": "3.9.18"
  }
 },
 "nbformat": 4,
 "nbformat_minor": 2
}
